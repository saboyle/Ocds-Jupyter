{
 "cells": [
  {
   "cell_type": "markdown",
   "id": "3b1ba69a-2e83-43a9-82af-f08718221407",
   "metadata": {
    "tags": []
   },
   "source": [
    "# Validating OCDS Records Interactively in Jupyter using LibCove.\n",
    "S.A.Boyle 19/08/2021"
   ]
  },
  {
   "cell_type": "markdown",
   "id": "ae98b06f-42c1-4025-aa80-d841f79d6aa1",
   "metadata": {},
   "source": [
    "## Requirements\n",
    "* !pip install libcove\n",
    "* !pip install libcoveocds"
   ]
  },
  {
   "cell_type": "code",
   "execution_count": 1,
   "id": "39a9f683-2764-467c-b532-71f22dd9f44a",
   "metadata": {},
   "outputs": [],
   "source": [
    "from libcoveocds.lib.api import context_api_transform\n",
    "from libcoveocds.common_checks import common_checks_ocds\n",
    "from libcoveocds.schema import SchemaOCDS\n",
    "from libcoveocds.config import LibCoveOCDSConfig\n",
    "from pathlib import Path\n",
    "import json"
   ]
  },
  {
   "cell_type": "markdown",
   "id": "5b66b6e2-3af4-4bc4-85b3-10bdc98ae748",
   "metadata": {},
   "source": [
    "## Retrieving OCDS json from URL "
   ]
  },
  {
   "cell_type": "code",
   "execution_count": 2,
   "id": "04e74cea-5d00-4a3c-8f6f-d82a43aed3f2",
   "metadata": {},
   "outputs": [],
   "source": [
    "import urllib.request\n",
    "\n",
    "def load_ocds_from_url(ocds_url):\n",
    "    \"\"\"\n",
    "    load_ocds_from_url: fetch and parse an ocds file from ocds_url.\n",
    "    \"\"\"\n",
    "    with urllib.request.urlopen(ocds_url) as response:\n",
    "        raw_json = response.read()\n",
    "        json_data = json.loads(raw_json)    \n",
    "    return json_data\n",
    "\n",
    "def load_ocds_from_file(filename):\n",
    "    raw_json = Path(filename).read_text()\n",
    "    json_data = json.loads(raw_json)\n",
    "    return json_data"
   ]
  },
  {
   "cell_type": "markdown",
   "id": "e5264433-cfca-4eca-833f-27100465e387",
   "metadata": {},
   "source": [
    "## Validating OCDS compliance from pasted JSON fragment"
   ]
  },
  {
   "cell_type": "code",
   "execution_count": 3,
   "id": "99f84025-f6d1-4e55-843c-2e0d354e8119",
   "metadata": {},
   "outputs": [],
   "source": [
    "\n",
    "def validate_json(json_data, context = {\"file_type\": 'json'}, schema_version=\"1.1\"):\n",
    "    \"\"\" \n",
    "    validate_json: validate json_data against the specified OCDS shema_version \n",
    "    \"\"\"\n",
    "    lib_cove_ocds_config = LibCoveOCDSConfig()\n",
    "    schema_ocds = SchemaOCDS(schema_version, json_data, lib_cove_ocds_config=lib_cove_ocds_config, record_pkg=False)\n",
    "\n",
    "    result = context_api_transform(\n",
    "            common_checks_ocds(context, '/tmp', json_data, schema_ocds, api=True, cache=False)\n",
    "        )\n",
    "    return result"
   ]
  },
  {
   "cell_type": "markdown",
   "id": "65079b9f-f569-4692-bca0-1b64438d9534",
   "metadata": {},
   "source": [
    "## Validating an OCDS Json file"
   ]
  },
  {
   "cell_type": "code",
   "execution_count": 4,
   "id": "249443fc-7195-42e4-84a9-69397a99b483",
   "metadata": {},
   "outputs": [],
   "source": [
    "filename = \"tempinput/testinput.json\"\n",
    "\n",
    "def validate_json_file(filename, schema_version=\"1.1\"):\n",
    "    \"\"\" \n",
    "    validate_json_file: validate OCDS json held in filename against the specified OCDS shema_version \n",
    "    \"\"\"\n",
    "    json_data = load_ocds_from_file(filename)\n",
    "    return validate_json(json_data, schema_version=schema_version)\n",
    "\n",
    "result = validate_json_file(filename)"
   ]
  },
  {
   "cell_type": "markdown",
   "id": "101e45fe-aca9-4bd1-939c-6a4e3b247e6b",
   "metadata": {},
   "source": [
    "## Validating OCDS from Url"
   ]
  },
  {
   "cell_type": "code",
   "execution_count": 5,
   "id": "83e3da73-582b-48ce-acc3-a4bb4c9267ae",
   "metadata": {},
   "outputs": [],
   "source": [
    "def validate_url(ocds_url, schema_version=\"1.1\"):\n",
    "    \"\"\" \n",
    "    validate_json_url: validate OCDS json hosted at ocds_url against the specified OCDS shema_version \n",
    "    \"\"\"\n",
    "    json_data = load_ocds_from_url(ocds_url)\n",
    "    return validate_json(json_data, schema_version=schema_version)\n",
    "\n",
    "result = validate_url('http://www.ppip.gov.np/api/contracts/ocds/3')"
   ]
  },
  {
   "cell_type": "markdown",
   "id": "2063b4b0-a41e-4d9c-a52b-f65f3bd82fd1",
   "metadata": {},
   "source": [
    "## Inspecting available sections in the result dictionary"
   ]
  },
  {
   "cell_type": "code",
   "execution_count": 6,
   "id": "d9c37bf4-a97d-4c58-9926-c55086f346ff",
   "metadata": {},
   "outputs": [
    {
     "data": {
      "text/plain": [
       "dict_keys(['file_type', 'version_used', 'schema_url', 'extensions', 'validation_errors', 'common_error_types', 'deprecated_fields', 'releases_aggregates', 'additional_closed_codelist_values', 'additional_open_codelist_values', 'additional_checks', 'all_additional_fields', 'additional_fields', 'ocds_prefixes_bad_format'])"
      ]
     },
     "execution_count": 6,
     "metadata": {},
     "output_type": "execute_result"
    }
   ],
   "source": [
    "result.keys()"
   ]
  },
  {
   "cell_type": "markdown",
   "id": "14d22e29-c958-4b50-894b-47e0bdb1b13e",
   "metadata": {},
   "source": [
    "## Inspecting detailed results within a given results section"
   ]
  },
  {
   "cell_type": "code",
   "execution_count": 84,
   "id": "b865eb27-2ed1-40cf-8e0d-a94fadd0bc27",
   "metadata": {},
   "outputs": [
    {
     "data": {
      "text/plain": [
       "[{'type': 'number',\n",
       "  'field': 'releases/planning/budget/amount/amount',\n",
       "  'description': \"'amount' is not a number. Check that the value  doesn’t contain any characters other than 0-9 and dot ('.'). Number values should not be in quotes. \",\n",
       "  'path': 'releases/0/planning/budget/amount/amount',\n",
       "  'value': 'n/a'}]"
      ]
     },
     "execution_count": 84,
     "metadata": {},
     "output_type": "execute_result"
    }
   ],
   "source": [
    "result['validation_errors']"
   ]
  },
  {
   "cell_type": "code",
   "execution_count": 113,
   "id": "d53112f7-bc32-4e93-809e-a58ca736c05b",
   "metadata": {},
   "outputs": [
    {
     "data": {
      "text/plain": [
       "[{'paths': ('releases/0/buyer',),\n",
       "  'explanation': ('1.1',\n",
       "   'From version 1.1, organizations should be referenced by their identifier and name in a document, and address information should only be provided in the relevant cross-referenced entry in the parties section at the top level of a release.'),\n",
       "  'field': 'address'},\n",
       " {'paths': ('releases/0/tender',),\n",
       "  'explanation': ('1.1',\n",
       "   'The single amendment object has been deprecated in favour of including amendments in an amendments (plural) array.'),\n",
       "  'field': 'amendment'},\n",
       " {'paths': ('releases/0/buyer',),\n",
       "  'explanation': ('1.1',\n",
       "   'From version 1.1, organizations should be referenced by their identifier and name in a document, and contact point information for an organization should be provided in the relevant cross-referenced entry in the parties section at the top level of a release.'),\n",
       "  'field': 'contactPoint'},\n",
       " {'paths': ('releases/0/buyer',),\n",
       "  'explanation': ('1.1',\n",
       "   'From version 1.1, organizations should be referenced by their identifier and name in a document, and detailed legal identifier information should only be provided in the relevant cross-referenced entry in the parties section at the top level of a release.'),\n",
       "  'field': 'identifier'}]"
      ]
     },
     "execution_count": 113,
     "metadata": {},
     "output_type": "execute_result"
    }
   ],
   "source": [
    "result['deprecated_fields']"
   ]
  },
  {
   "cell_type": "markdown",
   "id": "0efb2f8e-7773-4418-a7de-5ab1ab334a11",
   "metadata": {},
   "source": [
    "---"
   ]
  },
  {
   "cell_type": "markdown",
   "id": "80adc1f4-4039-402a-8147-23ccaee8c3d3",
   "metadata": {},
   "source": [
    "## Rendering OCDS validation results in user friendly format"
   ]
  },
  {
   "cell_type": "code",
   "execution_count": 104,
   "id": "cd29603c-2c23-47cc-8571-f2cf78b0fb74",
   "metadata": {},
   "outputs": [],
   "source": [
    "#!pip install Jinja2"
   ]
  },
  {
   "cell_type": "code",
   "execution_count": 108,
   "id": "def12a3b-7882-4017-a1dd-3f371035b2f6",
   "metadata": {},
   "outputs": [],
   "source": [
    "from jinja2 import Template\n",
    "import IPython"
   ]
  },
  {
   "cell_type": "code",
   "execution_count": 121,
   "id": "875e3534-5e16-43d6-8d2c-4fbe816501c9",
   "metadata": {},
   "outputs": [
    {
     "data": {
      "text/html": [
       "\n",
       "        <h2>Validation Checks</h2>\n",
       "        <table class=\"table\">\n",
       "            <thead>\n",
       "              <tr>\n",
       "                <th>Type</th>\n",
       "                <th>Field</th>\n",
       "                <th>Description</th>\n",
       "                <th>Path</th>\n",
       "                <th>Value</th>\n",
       "              </tr>\n",
       "            </thead>\n",
       "            <tbody>\n",
       "                \n",
       "                <tr>\n",
       "                    <td>number</td>\n",
       "                    <td>releases/planning/budget/amount/amount</td>\n",
       "                    <td>'amount' is not a number. Check that the value  doesn’t contain any characters other than 0-9 and dot ('.'). Number values should not be in quotes. </td>\n",
       "                    <td>releases/0/planning/budget/amount/amount</td>\n",
       "                    <td>n/a</td>\n",
       "                </tr>\n",
       "                \n",
       "            </tbody>\n",
       "        </table>\n",
       "        "
      ],
      "text/plain": [
       "<IPython.core.display.HTML object>"
      ]
     },
     "execution_count": 121,
     "metadata": {},
     "output_type": "execute_result"
    }
   ],
   "source": [
    "def render_validation_checks(result, title=\"Validation Checks\"):\n",
    "    validation_checks_template = \"\"\"\n",
    "        <h2>{{ title }}</h2>\n",
    "        <table class=\"table\">\n",
    "            <thead>\n",
    "              <tr>\n",
    "                <th>Type</th>\n",
    "                <th>Field</th>\n",
    "                <th>Description</th>\n",
    "                <th>Path</th>\n",
    "                <th>Value</th>\n",
    "              </tr>\n",
    "            </thead>\n",
    "            <tbody>\n",
    "                {% for i in data %}\n",
    "                <tr>\n",
    "                    <td>{{ i.type }}</td>\n",
    "                    <td>{{ i.field }}</td>\n",
    "                    <td>{{ i.description }}</td>\n",
    "                    <td>{{ i.path }}</td>\n",
    "                    <td>{{ i.value }}</td>\n",
    "                </tr>\n",
    "                {% endfor %}\n",
    "            </tbody>\n",
    "        </table>\n",
    "        \"\"\"\n",
    "\n",
    "    template = Template(validation_checks_template)\n",
    "    h = template.render(data = result['validation_errors'], title=title)\n",
    "    return IPython.display.HTML(h)\n",
    "\n",
    "render_validation_checks(result)"
   ]
  },
  {
   "cell_type": "code",
   "execution_count": 128,
   "id": "765377a0-59e9-42c4-a145-b1ff5b14c175",
   "metadata": {},
   "outputs": [
    {
     "data": {
      "text/html": [
       "\n",
       "        <h2>Additional Fields</h2>\n",
       "        <table class=\"table\">\n",
       "            <thead>\n",
       "              <tr>\n",
       "                <th>Path</th>\n",
       "                <th>Field</th>\n",
       "                <th>Usage Count</th>\n",
       "              </tr>\n",
       "            </thead>\n",
       "            <tbody>\n",
       "                \n",
       "                <tr>\n",
       "                    <td>/releases/tender</td>\n",
       "                    <td>criteria</td>\n",
       "                    <td>1</td>\n",
       "                </tr>\n",
       "                \n",
       "            </tbody>\n",
       "        </table>\n",
       "        "
      ],
      "text/plain": [
       "<IPython.core.display.HTML object>"
      ]
     },
     "execution_count": 128,
     "metadata": {},
     "output_type": "execute_result"
    }
   ],
   "source": [
    "def render_additional_fields(result, title=\"Additional Fields\"):\n",
    "    additional_fields_template = \"\"\"\n",
    "        <h2>{{ title }}</h2>\n",
    "        <table class=\"table\">\n",
    "            <thead>\n",
    "              <tr>\n",
    "                <th>Path</th>\n",
    "                <th>Field</th>\n",
    "                <th>Usage Count</th>\n",
    "              </tr>\n",
    "            </thead>\n",
    "            <tbody>\n",
    "                {% for i in data %}\n",
    "                <tr>\n",
    "                    <td>{{ i.path }}</td>\n",
    "                    <td>{{ i.field }}</td>\n",
    "                    <td>{{ i.usage_count }}</td>\n",
    "                </tr>\n",
    "                {% endfor %}\n",
    "            </tbody>\n",
    "        </table>\n",
    "        \"\"\"\n",
    "\n",
    "    template = Template(additional_fields_template)\n",
    "    h = template.render(data = result['additional_fields'], title=title)\n",
    "    return IPython.display.HTML(h)\n",
    "\n",
    "render_additional_fields(result)"
   ]
  },
  {
   "cell_type": "code",
   "execution_count": 125,
   "id": "9665b0dc-5484-48cd-be95-6c6855d87d5d",
   "metadata": {},
   "outputs": [
    {
     "data": {
      "text/html": [
       "\n",
       "        <h2>Deprecated Fields</h2>\n",
       "        <table class=\"table\">\n",
       "            <thead>\n",
       "              <tr>\n",
       "                <th>Paths</th>\n",
       "                <th>Field</th>\n",
       "                <th>Explanation</th>\n",
       "              </tr>\n",
       "            </thead>\n",
       "            <tbody>\n",
       "                \n",
       "                <tr>\n",
       "                    <td>('releases/0/buyer',)</td>\n",
       "                    <td>address</td>\n",
       "                    <td>('1.1', 'From version 1.1, organizations should be referenced by their identifier and name in a document, and address information should only be provided in the relevant cross-referenced entry in the parties section at the top level of a release.')</td>\n",
       "                </tr>\n",
       "                \n",
       "                <tr>\n",
       "                    <td>('releases/0/tender',)</td>\n",
       "                    <td>amendment</td>\n",
       "                    <td>('1.1', 'The single amendment object has been deprecated in favour of including amendments in an amendments (plural) array.')</td>\n",
       "                </tr>\n",
       "                \n",
       "                <tr>\n",
       "                    <td>('releases/0/buyer',)</td>\n",
       "                    <td>contactPoint</td>\n",
       "                    <td>('1.1', 'From version 1.1, organizations should be referenced by their identifier and name in a document, and contact point information for an organization should be provided in the relevant cross-referenced entry in the parties section at the top level of a release.')</td>\n",
       "                </tr>\n",
       "                \n",
       "                <tr>\n",
       "                    <td>('releases/0/buyer',)</td>\n",
       "                    <td>identifier</td>\n",
       "                    <td>('1.1', 'From version 1.1, organizations should be referenced by their identifier and name in a document, and detailed legal identifier information should only be provided in the relevant cross-referenced entry in the parties section at the top level of a release.')</td>\n",
       "                </tr>\n",
       "                \n",
       "            </tbody>\n",
       "        </table>\n",
       "        "
      ],
      "text/plain": [
       "<IPython.core.display.HTML object>"
      ]
     },
     "execution_count": 125,
     "metadata": {},
     "output_type": "execute_result"
    }
   ],
   "source": [
    "def render_deprecated_fields(result, title=\"Deprecated Fields\"):\n",
    "    deprecated_fields_template = \"\"\"\n",
    "        <h2>{{ title }}</h2>\n",
    "        <table class=\"table\">\n",
    "            <thead>\n",
    "              <tr>\n",
    "                <th>Paths</th>\n",
    "                <th>Field</th>\n",
    "                <th>Explanation</th>\n",
    "              </tr>\n",
    "            </thead>\n",
    "            <tbody>\n",
    "                {% for i in data %}\n",
    "                <tr>\n",
    "                    <td>{{ i.paths }}</td>\n",
    "                    <td>{{ i.field }}</td>\n",
    "                    <td>{{ i.explanation }}</td>\n",
    "                </tr>\n",
    "                {% endfor %}\n",
    "            </tbody>\n",
    "        </table>\n",
    "        \"\"\"\n",
    "\n",
    "    template = Template(deprecated_fields_template)\n",
    "    h = template.render(data = result['deprecated_fields'], title=title)\n",
    "    return IPython.display.HTML(h)\n",
    "\n",
    "render_deprecated_fields(result)"
   ]
  }
 ],
 "metadata": {
  "kernelspec": {
   "display_name": "Python 3",
   "language": "python",
   "name": "python3"
  },
  "language_info": {
   "codemirror_mode": {
    "name": "ipython",
    "version": 3
   },
   "file_extension": ".py",
   "mimetype": "text/x-python",
   "name": "python",
   "nbconvert_exporter": "python",
   "pygments_lexer": "ipython3",
   "version": "3.7.9"
  }
 },
 "nbformat": 4,
 "nbformat_minor": 5
}
